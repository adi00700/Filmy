{
 "cells": [
  {
   "cell_type": "code",
   "execution_count": 142,
   "id": "d8fe4652",
   "metadata": {},
   "outputs": [],
   "source": [
    "import pandas as pd\n",
    "import numpy as np\n",
    "import matplotlib.pyplot as plt"
   ]
  },
  {
   "cell_type": "code",
   "execution_count": 143,
   "id": "577b25d9",
   "metadata": {},
   "outputs": [],
   "source": [
    "df = pd.read_csv(\"Netflix.csv\")"
   ]
  },
  {
   "cell_type": "code",
   "execution_count": 144,
   "id": "b1df51c0",
   "metadata": {},
   "outputs": [
    {
     "data": {
      "text/plain": [
       "array(['Romance', nan, 'Adventure', 'Fantasy', 'Comedy', 'Crime',\n",
       "       'Science Fiction', 'Thriller', 'Mystery', 'Anime', 'Action',\n",
       "       'Horror', 'Historical Drama', 'History'], dtype=object)"
      ]
     },
     "execution_count": 144,
     "metadata": {},
     "output_type": "execute_result"
    }
   ],
   "source": [
    "df.Genre3.unique()"
   ]
  },
  {
   "cell_type": "code",
   "execution_count": 145,
   "id": "8352dd41",
   "metadata": {},
   "outputs": [],
   "source": [
    "df['Genre1'] = df['Genre1'].str.strip()\n",
    "df['Genre3'] = df['Genre3'].str.strip()"
   ]
  },
  {
   "cell_type": "code",
   "execution_count": 146,
   "id": "6f47bf3f",
   "metadata": {},
   "outputs": [],
   "source": [
    "MystoryThriller = sum(df[\"Genre1\"]==\"Thriller\")+sum(df[\"Genre3\"]==\"Thriller\")+sum(df[\"Genre1\"]==\"Mystery\")+sum(df[\"Genre3\"]==\"Mystery\")"
   ]
  },
  {
   "cell_type": "code",
   "execution_count": 147,
   "id": "f3f06fb3",
   "metadata": {},
   "outputs": [],
   "source": [
    "Action= sum(df[\"Genre1\"]==\"Action\")+sum(df[\"Genre3\"]==\"Action\")"
   ]
  },
  {
   "cell_type": "code",
   "execution_count": 148,
   "id": "825a308c",
   "metadata": {},
   "outputs": [],
   "source": [
    "Comedy=sum(df[\"Genre1\"]==\"Comedy\")+sum(df[\"Genre3\"]==\"Comedy\")"
   ]
  },
  {
   "cell_type": "code",
   "execution_count": 149,
   "id": "63853789",
   "metadata": {},
   "outputs": [],
   "source": [
    "Horror=sum(df[\"Genre1\"]==\"Horror\")+sum(df[\"Genre3\"]==\"Horror\")"
   ]
  },
  {
   "cell_type": "code",
   "execution_count": 150,
   "id": "0339a465",
   "metadata": {},
   "outputs": [],
   "source": [
    "Romance=sum(df[\"Genre1\"]==\"Romance\")+sum(df[\"Genre3\"]==\"Romance\")"
   ]
  },
  {
   "cell_type": "code",
   "execution_count": 151,
   "id": "2db5598d",
   "metadata": {},
   "outputs": [],
   "source": [
    "HistoricalDrama=sum(df[\"Genre1\"]==\"Historical Drama\")+sum(df[\"Genre3\"]==\"Historical Drama\")+sum(df[\"Genre1\"]==\"History\")+sum(df[\"Genre3\"]==\"History\")"
   ]
  },
  {
   "cell_type": "code",
   "execution_count": 152,
   "id": "6dfd949c",
   "metadata": {},
   "outputs": [],
   "source": [
    "ScienceFiction=sum(df[\"Genre1\"]==\"Science Fiction\")+sum(df[\"Genre3\"]==\"Science Fiction\")"
   ]
  },
  {
   "cell_type": "code",
   "execution_count": 153,
   "id": "9ada1b60",
   "metadata": {},
   "outputs": [],
   "source": [
    "Fantasy=sum(df[\"Genre1\"]==\"Fantasy\")+sum(df[\"Genre3\"]==\"Fantasy\")"
   ]
  },
  {
   "cell_type": "code",
   "execution_count": 154,
   "id": "b2fbf743",
   "metadata": {},
   "outputs": [],
   "source": [
    "Anime=sum(df[\"Genre1\"]==\"Anime\")+sum(df[\"Genre3\"]==\"Anime\")"
   ]
  },
  {
   "cell_type": "code",
   "execution_count": 155,
   "id": "61bf6a2d",
   "metadata": {},
   "outputs": [],
   "source": [
    "War=sum(df[\"Genre1\"]==\"War\")+sum(df[\"Genre3\"]==\"War\")"
   ]
  },
  {
   "cell_type": "code",
   "execution_count": 156,
   "id": "ba14051a",
   "metadata": {},
   "outputs": [],
   "source": [
    "PoliticalDrama=sum(df[\"Genre1\"]==\"Political Drama\")+sum(df[\"Genre3\"]==\"Political Drama\")"
   ]
  },
  {
   "cell_type": "code",
   "execution_count": 157,
   "id": "6bbc30e1",
   "metadata": {},
   "outputs": [],
   "source": [
    "Adventure=sum(df[\"Genre1\"]==\"Adventure\")+sum(df[\"Genre3\"]==\"Adventure\")"
   ]
  },
  {
   "cell_type": "code",
   "execution_count": 158,
   "id": "b1d3d341",
   "metadata": {},
   "outputs": [],
   "source": [
    "Crime=sum(df[\"Genre1\"]==\"Crime\")+sum(df[\"Genre3\"]==\"Crime\")"
   ]
  },
  {
   "cell_type": "code",
   "execution_count": 159,
   "id": "2a81ee74",
   "metadata": {},
   "outputs": [],
   "source": [
    "total = MystoryThriller+Action+Comedy+Horror+Romance+HistoricalDrama+ScienceFiction+Fantasy+War+Crime+Adventure+PoliticalDrama"
   ]
  },
  {
   "cell_type": "code",
   "execution_count": 160,
   "id": "db5aadfd",
   "metadata": {},
   "outputs": [
    {
     "data": {
      "text/plain": [
       "25.742574257425744"
      ]
     },
     "execution_count": 160,
     "metadata": {},
     "output_type": "execute_result"
    }
   ],
   "source": [
    "MystoryThriller/total*100"
   ]
  },
  {
   "cell_type": "code",
   "execution_count": 161,
   "id": "5b49fd9e",
   "metadata": {},
   "outputs": [
    {
     "data": {
      "text/plain": [
       "23.762376237623762"
      ]
     },
     "execution_count": 161,
     "metadata": {},
     "output_type": "execute_result"
    }
   ],
   "source": [
    "Action/total*100"
   ]
  },
  {
   "cell_type": "code",
   "execution_count": 162,
   "id": "4177109c",
   "metadata": {},
   "outputs": [
    {
     "data": {
      "text/plain": [
       "16.831683168316832"
      ]
     },
     "execution_count": 162,
     "metadata": {},
     "output_type": "execute_result"
    }
   ],
   "source": [
    "Comedy/total*100"
   ]
  },
  {
   "cell_type": "code",
   "execution_count": 163,
   "id": "a4e4e033",
   "metadata": {},
   "outputs": [
    {
     "data": {
      "text/plain": [
       "4.9504950495049505"
      ]
     },
     "execution_count": 163,
     "metadata": {},
     "output_type": "execute_result"
    }
   ],
   "source": [
    "Horror/total*100"
   ]
  },
  {
   "cell_type": "code",
   "execution_count": 164,
   "id": "412e4ed1",
   "metadata": {},
   "outputs": [
    {
     "data": {
      "text/plain": [
       "12.376237623762377"
      ]
     },
     "execution_count": 164,
     "metadata": {},
     "output_type": "execute_result"
    }
   ],
   "source": [
    "Romance/total*100"
   ]
  },
  {
   "cell_type": "code",
   "execution_count": 165,
   "id": "74114a8b",
   "metadata": {},
   "outputs": [
    {
     "data": {
      "text/plain": [
       "202"
      ]
     },
     "execution_count": 165,
     "metadata": {},
     "output_type": "execute_result"
    }
   ],
   "source": [
    "total"
   ]
  },
  {
   "cell_type": "code",
   "execution_count": 166,
   "id": "1bbf86b6",
   "metadata": {},
   "outputs": [
    {
     "data": {
      "text/plain": [
       "1.9801980198019802"
      ]
     },
     "execution_count": 166,
     "metadata": {},
     "output_type": "execute_result"
    }
   ],
   "source": [
    "HistoricalDrama/total*100"
   ]
  },
  {
   "cell_type": "code",
   "execution_count": 167,
   "id": "a769f129",
   "metadata": {},
   "outputs": [
    {
     "data": {
      "text/plain": [
       "1.9801980198019802"
      ]
     },
     "execution_count": 167,
     "metadata": {},
     "output_type": "execute_result"
    }
   ],
   "source": [
    "ScienceFiction/total*100"
   ]
  },
  {
   "cell_type": "code",
   "execution_count": 168,
   "id": "81c39705",
   "metadata": {},
   "outputs": [
    {
     "data": {
      "text/plain": [
       "4.9504950495049505"
      ]
     },
     "execution_count": 168,
     "metadata": {},
     "output_type": "execute_result"
    }
   ],
   "source": [
    "Fantasy/total*100"
   ]
  },
  {
   "cell_type": "code",
   "execution_count": 169,
   "id": "104cca44",
   "metadata": {},
   "outputs": [
    {
     "data": {
      "text/plain": [
       "0.9900990099009901"
      ]
     },
     "execution_count": 169,
     "metadata": {},
     "output_type": "execute_result"
    }
   ],
   "source": [
    "Anime/total*100"
   ]
  },
  {
   "cell_type": "code",
   "execution_count": 170,
   "id": "9ede49d8",
   "metadata": {},
   "outputs": [],
   "source": [
    "genre = [\"MysteryThriller\",\"Action\",\"Comedy\",\"Romance\",\"Others\"]"
   ]
  },
  {
   "cell_type": "code",
   "execution_count": 171,
   "id": "59935c38",
   "metadata": {},
   "outputs": [
    {
     "data": {
      "image/png": "[encoded data removed]",
      "text/plain": [
       "<Figure size 432x288 with 1 Axes>"
      ]
     },
     "metadata": {},
     "output_type": "display_data"
    }
   ],
   "source": [
    "fig = plt.figure()\n",
    "ax = fig.add_axes([0,0,1,1])\n",
    "ax.axis('equal')\n",
    "ax.pie([MystoryThriller,Action,Comedy,Romance,PoliticalDrama+Adventure+Fantasy+Horror+Anime+ScienceFiction+HistoricalDrama+Crime+War], labels = genre,autopct='%1.2f%%')\n",
    "plt.show()"
   ]
  },
  {
   "cell_type": "code",
   "execution_count": 172,
   "id": "11ab2b3d",
   "metadata": {},
   "outputs": [],
   "source": [
    "df = pd.read_csv(\"boxcollection.csv\",encoding='ISO-8859-1')"
   ]
  },
  {
   "cell_type": "code",
   "execution_count": 173,
   "id": "902012f4",
   "metadata": {},
   "outputs": [],
   "source": [
    "df = df[df[\"Box Office India\"]>=50]\n",
    "df = df.reset_index()\n",
    "df = df.drop(columns=[\"index\"])\n",
    "df['Genre1'] = df['Genre1'].str.strip()\n",
    "df['Genre3'] = df['Genre3'].str.strip()\n",
    "df['movie_director'] = df['movie_director'].str.strip()\n",
    "df['actor1'] = df['actor1'].str.strip()\n",
    "df['actor2'] = df['actor2'].str.strip()\n",
    "df['actor3'] = df['actor3'].str.strip()"
   ]
  },
  {
   "cell_type": "code",
   "execution_count": 174,
   "id": "44cbfe19",
   "metadata": {},
   "outputs": [
    {
     "data": {
      "text/plain": [
       "array(['Action', 'Comedy', 'Romance', 'Dance', 'Historical Drama',\n",
       "       'Sci-fi', 'Biographical', nan, 'Musical'], dtype=object)"
      ]
     },
     "execution_count": 174,
     "metadata": {},
     "output_type": "execute_result"
    }
   ],
   "source": [
    "df.Genre1.unique()"
   ]
  },
  {
   "cell_type": "code",
   "execution_count": 175,
   "id": "133186c5",
   "metadata": {},
   "outputs": [
    {
     "data": {
      "image/png": "[encoded data removed]",
      "text/plain": [
       "<Figure size 432x288 with 1 Axes>"
      ]
     },
     "metadata": {},
     "output_type": "display_data"
    }
   ],
   "source": [
    "MystoryThriller = sum(df[\"Genre1\"]==\"Thriller\")+sum(df[\"Genre3\"]==\"Thriller\")+sum(df[\"Genre1\"]==\"Mystery\")+sum(df[\"Genre3\"]==\"Mystery\")\n",
    "\n",
    "Action= sum(df[\"Genre1\"]==\"Action\")+sum(df[\"Genre3\"]==\"Action\")\n",
    "\n",
    "Comedy=sum(df[\"Genre1\"]==\"Comedy\")+sum(df[\"Genre3\"]==\"Comedy\")\n",
    "\n",
    "Horror=sum(df[\"Genre1\"]==\"Horror\")+sum(df[\"Genre3\"]==\"Horror\")\n",
    "\n",
    "Romance=sum(df[\"Genre1\"]==\"Romance\")+sum(df[\"Genre3\"]==\"Romance\")\n",
    "\n",
    "HistoricalDrama=sum(df[\"Genre1\"]==\"Historical Drama\")+sum(df[\"Genre3\"]==\"Historical Drama\")\n",
    "\n",
    "ScienceFiction=sum(df[\"Genre1\"]==\"Sci-fi\")+sum(df[\"Genre3\"]==\"Sci-fi\")\n",
    "\n",
    "Biographical=sum(df[\"Genre1\"]==\"Biographical\")+sum(df[\"Genre3\"]==\"Biographical\")\n",
    "\n",
    "Others=sum(df[\"Genre1\"]==\"Dance\")+sum(df[\"Genre3\"]==\"Dance\")+sum(df[\"Genre1\"]==\"Musical\")+sum(df[\"Genre3\"]==\"Musical\")\n",
    "\n",
    "total = MystoryThriller+Action+Comedy+Horror+Romance+HistoricalDrama+ScienceFiction+Biographical+Others\n",
    "\n",
    "genre = [\"MysteryThriller\",\"Action\",\"Comedy\",\"Romance\",\"Others\"]\n",
    "\n",
    "fig = plt.figure()\n",
    "ax = fig.add_axes([0,0,1,1])\n",
    "ax.axis('equal')\n",
    "ax.pie([MystoryThriller,Action,Comedy,Romance,HistoricalDrama+Biographical+Others+Horror+ScienceFiction], labels = genre,autopct='%1.2f%%')\n",
    "plt.show()"
   ]
  },
  {
   "cell_type": "code",
   "execution_count": 176,
   "id": "79db31f7",
   "metadata": {},
   "outputs": [
    {
     "data": {
      "text/html": [
       "<div>\n",
       "<style scoped>\n",
       "    .dataframe tbody tr th:only-of-type {\n",
       "        vertical-align: middle;\n",
       "    }\n",
       "\n",
       "    .dataframe tbody tr th {\n",
       "        vertical-align: top;\n",
       "    }\n",
       "\n",
       "    .dataframe thead th {\n",
       "        text-align: right;\n",
       "    }\n",
       "</style>\n",
       "<table border=\"1\" class=\"dataframe\">\n",
       "  <thead>\n",
       "    <tr style=\"text-align: right;\">\n",
       "      <th></th>\n",
       "      <th>movie_name</th>\n",
       "      <th>Box Office India</th>\n",
       "      <th>Genre1</th>\n",
       "      <th>Genre3</th>\n",
       "      <th>movie_director</th>\n",
       "      <th>actor1</th>\n",
       "      <th>actor2</th>\n",
       "      <th>actor3</th>\n",
       "    </tr>\n",
       "  </thead>\n",
       "  <tbody>\n",
       "    <tr>\n",
       "      <th>41</th>\n",
       "      <td>Sanju</td>\n",
       "      <td>341.22</td>\n",
       "      <td>Biographical</td>\n",
       "      <td>NaN</td>\n",
       "      <td>Rajkumar Hirani</td>\n",
       "      <td>ÊRanbir Kapoor</td>\n",
       "      <td>Paresh Rawal</td>\n",
       "      <td>Manisha Koirala</td>\n",
       "    </tr>\n",
       "  </tbody>\n",
       "</table>\n",
       "</div>"
      ],
      "text/plain": [
       "   movie_name  Box Office India        Genre1 Genre3   movie_director  \\\n",
       "41      Sanju            341.22  Biographical    NaN  Rajkumar Hirani   \n",
       "\n",
       "            actor1        actor2           actor3  \n",
       "41  ÊRanbir Kapoor  Paresh Rawal  Manisha Koirala  "
      ]
     },
     "execution_count": 176,
     "metadata": {},
     "output_type": "execute_result"
    }
   ],
   "source": [
    "df[df[\"movie_director\"]==\"Rajkumar Hirani\"]"
   ]
  },
  {
   "cell_type": "code",
   "execution_count": 177,
   "id": "63e51eab",
   "metadata": {},
   "outputs": [],
   "source": [
    "df = pd.read_csv(\"Hotstar.csv\")"
   ]
  },
  {
   "cell_type": "code",
   "execution_count": 178,
   "id": "12b01f53",
   "metadata": {},
   "outputs": [],
   "source": [
    "df['Genre1'] = df['Genre1'].str.strip()\n",
    "df['Genre3'] = df['Genre3'].str.strip()"
   ]
  },
  {
   "cell_type": "code",
   "execution_count": 179,
   "id": "75a9a96f",
   "metadata": {},
   "outputs": [
    {
     "data": {
      "text/plain": [
       "array(['Crime', 'Romance', 'Comedy', 'Action', 'Adventure',\n",
       "       'Science Fiction', 'Fantasy', nan, 'Science', 'Thriller',\n",
       "       'Superhero', 'Biopic', 'Drama', 'Family', 'Animation',\n",
       "       'Documentary', 'Horror'], dtype=object)"
      ]
     },
     "execution_count": 179,
     "metadata": {},
     "output_type": "execute_result"
    }
   ],
   "source": [
    "df.Genre1.unique()"
   ]
  },
  {
   "cell_type": "code",
   "execution_count": 180,
   "id": "c45e0499",
   "metadata": {},
   "outputs": [
    {
     "data": {
      "text/plain": [
       "array([nan, 'Action', 'Musical', 'Historical Drama', 'Adventure',\n",
       "       'Comedy', 'Fantasy', 'Romance'], dtype=object)"
      ]
     },
     "execution_count": 180,
     "metadata": {},
     "output_type": "execute_result"
    }
   ],
   "source": [
    "df.Genre3.unique()"
   ]
  },
  {
   "cell_type": "code",
   "execution_count": 181,
   "id": "948786a6",
   "metadata": {},
   "outputs": [
    {
     "data": {
      "image/png": "[encoded data removed]",
      "text/plain": [
       "<Figure size 432x288 with 1 Axes>"
      ]
     },
     "metadata": {},
     "output_type": "display_data"
    }
   ],
   "source": [
    "MystoryThriller = sum(df[\"Genre1\"]==\"Thriller\")+sum(df[\"Genre3\"]==\"Thriller\")+sum(df[\"Genre1\"]==\"Mystery\")+sum(df[\"Genre3\"]==\"Mystery\")\n",
    "\n",
    "Action= sum(df[\"Genre1\"]==\"Action\")+sum(df[\"Genre3\"]==\"Action\")\n",
    "\n",
    "Family_Drama = sum(df[\"Genre1\"]==\"Drama\")+sum(df[\"Genre3\"]==\"Drama\")+sum(df[\"Genre1\"]==\"Family\")+sum(df[\"Genre3\"]==\"Family\")\n",
    "\n",
    "Adventure = sum(df[\"Genre1\"]==\"Adventure\")+sum(df[\"Genre3\"]==\"Adventure\")\n",
    "\n",
    "Comedy=sum(df[\"Genre1\"]==\"Comedy\")+sum(df[\"Genre3\"]==\"Comedy\")\n",
    "\n",
    "Horror=sum(df[\"Genre1\"]==\"Horror\")+sum(df[\"Genre3\"]==\"Horror\")\n",
    "\n",
    "Romance=sum(df[\"Genre1\"]==\"Romance\")+sum(df[\"Genre3\"]==\"Romance\")\n",
    "\n",
    "HistoricalDrama=sum(df[\"Genre1\"]==\"Historical Drama\")+sum(df[\"Genre3\"]==\"Historical Drama\")\n",
    "\n",
    "ScienceFiction=sum(df[\"Genre1\"]==\"Science Fiction\")+sum(df[\"Genre3\"]==\"Science Fiction\")+sum(df[\"Genre1\"]==\"Superhero\")+sum(df[\"Genre3\"]==\"Superhero\")\n",
    "\n",
    "Biographical=sum(df[\"Genre1\"]==\"Biopic\")+sum(df[\"Genre3\"]==\"Biopic\")\n",
    "\n",
    "Others=sum(df[\"Genre1\"]==\"Documentary\")+sum(df[\"Genre3\"]==\"Documentary\")+sum(df[\"Genre1\"]==\"Musical\")+sum(df[\"Genre3\"]==\"Musical\")\n",
    "\n",
    "total = MystoryThriller+Action+Adventure+Family_Drama+Comedy+Horror+Romance+HistoricalDrama+ScienceFiction+Biographical+Others\n",
    "\n",
    "genre = [\"MysteryThriller\",\"Action\",\"Comedy\",\"Romance\",\"Family/Regional Drama\",\"Others\"]\n",
    "\n",
    "fig = plt.figure()\n",
    "ax = fig.add_axes([0,0,1,1])\n",
    "ax.axis('equal')\n",
    "ax.pie([MystoryThriller,Action,Comedy,Romance,Family_Drama,Horror+Adventure+Biographical+Others+HistoricalDrama+ScienceFiction], labels = genre,autopct='%1.2f%%')\n",
    "plt.show()"
   ]
  }
 ],
 "metadata": {
  "kernelspec": {
   "display_name": "Python 3 (ipykernel)",
   "language": "python",
   "name": "python3"
  },
  "language_info": {
   "codemirror_mode": {
    "name": "ipython",
    "version": 3
   },
   "file_extension": ".py",
   "mimetype": "text/x-python",
   "name": "python",
   "nbconvert_exporter": "python",
   "pygments_lexer": "ipython3",
   "version": "3.9.9"
  }
 },
 "nbformat": 4,
 "nbformat_minor": 5
}
