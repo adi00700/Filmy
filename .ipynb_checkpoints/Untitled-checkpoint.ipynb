{
 "cells": [
  {
   "cell_type": "code",
   "execution_count": 401,
   "id": "2a7b8ac7",
   "metadata": {},
   "outputs": [],
   "source": [
    "import pandas as pd\n",
    "import numpy as np\n",
    "import matplotlib.pyplot as plt"
   ]
  },
  {
   "cell_type": "code",
   "execution_count": 402,
   "id": "1120e729",
   "metadata": {},
   "outputs": [],
   "source": [
    "df = pd.read_csv(\"Movie.csv\")"
   ]
  },
  {
   "cell_type": "code",
   "execution_count": 403,
   "id": "5aba312b",
   "metadata": {},
   "outputs": [
    {
     "data": {
      "text/html": [
       "<div>\n",
       "<style scoped>\n",
       "    .dataframe tbody tr th:only-of-type {\n",
       "        vertical-align: middle;\n",
       "    }\n",
       "\n",
       "    .dataframe tbody tr th {\n",
       "        vertical-align: top;\n",
       "    }\n",
       "\n",
       "    .dataframe thead th {\n",
       "        text-align: right;\n",
       "    }\n",
       "</style>\n",
       "<table border=\"1\" class=\"dataframe\">\n",
       "  <thead>\n",
       "    <tr style=\"text-align: right;\">\n",
       "      <th></th>\n",
       "      <th>Movie</th>\n",
       "      <th>Trending Weeks</th>\n",
       "      <th>Genre1</th>\n",
       "      <th>Genre3</th>\n",
       "      <th>IMDb</th>\n",
       "    </tr>\n",
       "  </thead>\n",
       "  <tbody>\n",
       "    <tr>\n",
       "      <th>0</th>\n",
       "      <td>Shyam Singha Roy</td>\n",
       "      <td>2.0</td>\n",
       "      <td>Historical Drama</td>\n",
       "      <td>Romance</td>\n",
       "      <td>NaN</td>\n",
       "    </tr>\n",
       "    <tr>\n",
       "      <th>1</th>\n",
       "      <td>The Royal Treatment</td>\n",
       "      <td>2.0</td>\n",
       "      <td>Romance</td>\n",
       "      <td>NaN</td>\n",
       "      <td>NaN</td>\n",
       "    </tr>\n",
       "    <tr>\n",
       "      <th>2</th>\n",
       "      <td>Chandigarh Kare Aashiqui</td>\n",
       "      <td>4.0</td>\n",
       "      <td>Romance</td>\n",
       "      <td>NaN</td>\n",
       "      <td>NaN</td>\n",
       "    </tr>\n",
       "    <tr>\n",
       "      <th>3</th>\n",
       "      <td>Sooryavanshi</td>\n",
       "      <td>9.0</td>\n",
       "      <td>Action</td>\n",
       "      <td>NaN</td>\n",
       "      <td>NaN</td>\n",
       "    </tr>\n",
       "    <tr>\n",
       "      <th>4</th>\n",
       "      <td>Minnal Murali</td>\n",
       "      <td>6.0</td>\n",
       "      <td>Action</td>\n",
       "      <td>Adventure</td>\n",
       "      <td>NaN</td>\n",
       "    </tr>\n",
       "    <tr>\n",
       "      <th>...</th>\n",
       "      <td>...</td>\n",
       "      <td>...</td>\n",
       "      <td>...</td>\n",
       "      <td>...</td>\n",
       "      <td>...</td>\n",
       "    </tr>\n",
       "    <tr>\n",
       "      <th>992</th>\n",
       "      <td>NaN</td>\n",
       "      <td>NaN</td>\n",
       "      <td>NaN</td>\n",
       "      <td>NaN</td>\n",
       "      <td>NaN</td>\n",
       "    </tr>\n",
       "    <tr>\n",
       "      <th>993</th>\n",
       "      <td>NaN</td>\n",
       "      <td>NaN</td>\n",
       "      <td>NaN</td>\n",
       "      <td>NaN</td>\n",
       "      <td>NaN</td>\n",
       "    </tr>\n",
       "    <tr>\n",
       "      <th>994</th>\n",
       "      <td>NaN</td>\n",
       "      <td>NaN</td>\n",
       "      <td>NaN</td>\n",
       "      <td>NaN</td>\n",
       "      <td>NaN</td>\n",
       "    </tr>\n",
       "    <tr>\n",
       "      <th>995</th>\n",
       "      <td>NaN</td>\n",
       "      <td>NaN</td>\n",
       "      <td>NaN</td>\n",
       "      <td>NaN</td>\n",
       "      <td>NaN</td>\n",
       "    </tr>\n",
       "    <tr>\n",
       "      <th>996</th>\n",
       "      <td>NaN</td>\n",
       "      <td>NaN</td>\n",
       "      <td>NaN</td>\n",
       "      <td>NaN</td>\n",
       "      <td>NaN</td>\n",
       "    </tr>\n",
       "  </tbody>\n",
       "</table>\n",
       "<p>997 rows × 5 columns</p>\n",
       "</div>"
      ],
      "text/plain": [
       "                        Movie  Trending Weeks            Genre1     Genre3  \\\n",
       "0            Shyam Singha Roy             2.0  Historical Drama    Romance   \n",
       "1         The Royal Treatment             2.0           Romance        NaN   \n",
       "2    Chandigarh Kare Aashiqui             4.0           Romance        NaN   \n",
       "3                Sooryavanshi             9.0            Action        NaN   \n",
       "4               Minnal Murali             6.0            Action  Adventure   \n",
       "..                        ...             ...               ...        ...   \n",
       "992                       NaN             NaN               NaN        NaN   \n",
       "993                       NaN             NaN               NaN        NaN   \n",
       "994                       NaN             NaN               NaN        NaN   \n",
       "995                       NaN             NaN               NaN        NaN   \n",
       "996                       NaN             NaN               NaN        NaN   \n",
       "\n",
       "     IMDb  \n",
       "0     NaN  \n",
       "1     NaN  \n",
       "2     NaN  \n",
       "3     NaN  \n",
       "4     NaN  \n",
       "..    ...  \n",
       "992   NaN  \n",
       "993   NaN  \n",
       "994   NaN  \n",
       "995   NaN  \n",
       "996   NaN  \n",
       "\n",
       "[997 rows x 5 columns]"
      ]
     },
     "execution_count": 403,
     "metadata": {},
     "output_type": "execute_result"
    }
   ],
   "source": [
    "df"
   ]
  },
  {
   "cell_type": "code",
   "execution_count": 404,
   "id": "5847f22e",
   "metadata": {},
   "outputs": [],
   "source": [
    "df['Genre1'] = df['Genre1'].str.strip()\n",
    "df['Genre3'] = df['Genre3'].str.strip()"
   ]
  },
  {
   "cell_type": "code",
   "execution_count": 405,
   "id": "3b95eacb",
   "metadata": {},
   "outputs": [],
   "source": [
    "MystoryThriller = sum(df[\"Genre1\"]==\"Thriller\")+sum(df[\"Genre3\"]==\"Thriller\")+sum(df[\"Genre1\"]==\"Mystery\")+sum(df[\"Genre3\"]==\"Mystery\")"
   ]
  },
  {
   "cell_type": "code",
   "execution_count": 406,
   "id": "d8053db5",
   "metadata": {},
   "outputs": [],
   "source": [
    "Action= sum(df[\"Genre1\"]==\"Action\")+sum(df[\"Genre3\"]==\"Action\")"
   ]
  },
  {
   "cell_type": "code",
   "execution_count": 407,
   "id": "8a3bc028",
   "metadata": {},
   "outputs": [],
   "source": [
    "Comedy=sum(df[\"Genre1\"]==\"Comedy\")+sum(df[\"Genre3\"]==\"Comedy\")"
   ]
  },
  {
   "cell_type": "code",
   "execution_count": 408,
   "id": "8f867b3b",
   "metadata": {},
   "outputs": [],
   "source": [
    "Horror=sum(df[\"Genre1\"]==\"Horror\")+sum(df[\"Genre3\"]==\"Horror\")"
   ]
  },
  {
   "cell_type": "code",
   "execution_count": 409,
   "id": "e45191a9",
   "metadata": {},
   "outputs": [],
   "source": [
    "Romance=sum(df[\"Genre1\"]==\"Romance\")+sum(df[\"Genre3\"]==\"Romance\")"
   ]
  },
  {
   "cell_type": "code",
   "execution_count": 410,
   "id": "d1e7eed9",
   "metadata": {},
   "outputs": [],
   "source": [
    "HistoricalDrama=sum(df[\"Genre1\"]==\"Historical Drama\")+sum(df[\"Genre3\"]==\"Historical Drama\")"
   ]
  },
  {
   "cell_type": "code",
   "execution_count": 411,
   "id": "61445652",
   "metadata": {},
   "outputs": [],
   "source": [
    "ScienceFiction=sum(df[\"Genre1\"]==\"Science Fiction\")+sum(df[\"Genre3\"]==\"Science Fiction\")"
   ]
  },
  {
   "cell_type": "code",
   "execution_count": 412,
   "id": "4ec9cd77",
   "metadata": {},
   "outputs": [],
   "source": [
    "Fantasy=sum(df[\"Genre1\"]==\"Fantasy\")+sum(df[\"Genre3\"]==\"Fantasy\")"
   ]
  },
  {
   "cell_type": "code",
   "execution_count": 413,
   "id": "0396a7f6",
   "metadata": {},
   "outputs": [],
   "source": [
    "Anime=sum(df[\"Genre1\"]==\"Anime\")+sum(df[\"Genre3\"]==\"Anime\")"
   ]
  },
  {
   "cell_type": "code",
   "execution_count": 414,
   "id": "2f831393",
   "metadata": {},
   "outputs": [],
   "source": [
    "total = MystoryThriller+Action+Comedy+Horror+Romance+HistoricalDrama+ScienceFiction+Fantasy+Anime"
   ]
  },
  {
   "cell_type": "code",
   "execution_count": 415,
   "id": "e2f6ee0b",
   "metadata": {},
   "outputs": [
    {
     "data": {
      "text/plain": [
       "27.659574468085108"
      ]
     },
     "execution_count": 415,
     "metadata": {},
     "output_type": "execute_result"
    }
   ],
   "source": [
    "MystoryThriller/total*100"
   ]
  },
  {
   "cell_type": "code",
   "execution_count": 416,
   "id": "3d846380",
   "metadata": {},
   "outputs": [
    {
     "data": {
      "text/plain": [
       "25.53191489361702"
      ]
     },
     "execution_count": 416,
     "metadata": {},
     "output_type": "execute_result"
    }
   ],
   "source": [
    "Action/total*100"
   ]
  },
  {
   "cell_type": "code",
   "execution_count": 417,
   "id": "dbb3f23b",
   "metadata": {},
   "outputs": [
    {
     "data": {
      "text/plain": [
       "18.085106382978726"
      ]
     },
     "execution_count": 417,
     "metadata": {},
     "output_type": "execute_result"
    }
   ],
   "source": [
    "Comedy/total*100"
   ]
  },
  {
   "cell_type": "code",
   "execution_count": 418,
   "id": "180290e4",
   "metadata": {},
   "outputs": [
    {
     "data": {
      "text/plain": [
       "5.319148936170213"
      ]
     },
     "execution_count": 418,
     "metadata": {},
     "output_type": "execute_result"
    }
   ],
   "source": [
    "Horror/total*100"
   ]
  },
  {
   "cell_type": "code",
   "execution_count": 419,
   "id": "7df705d4",
   "metadata": {},
   "outputs": [
    {
     "data": {
      "text/plain": [
       "13.297872340425531"
      ]
     },
     "execution_count": 419,
     "metadata": {},
     "output_type": "execute_result"
    }
   ],
   "source": [
    "Romance/total*100"
   ]
  },
  {
   "cell_type": "code",
   "execution_count": 420,
   "id": "5451de09",
   "metadata": {},
   "outputs": [
    {
     "data": {
      "text/plain": [
       "188"
      ]
     },
     "execution_count": 420,
     "metadata": {},
     "output_type": "execute_result"
    }
   ],
   "source": [
    "total"
   ]
  },
  {
   "cell_type": "code",
   "execution_count": 421,
   "id": "0eb1fd85",
   "metadata": {},
   "outputs": [
    {
     "data": {
      "text/plain": [
       "1.5957446808510638"
      ]
     },
     "execution_count": 421,
     "metadata": {},
     "output_type": "execute_result"
    }
   ],
   "source": [
    "HistoricalDrama/total*100"
   ]
  },
  {
   "cell_type": "code",
   "execution_count": 422,
   "id": "c68551fc",
   "metadata": {},
   "outputs": [
    {
     "data": {
      "text/plain": [
       "2.127659574468085"
      ]
     },
     "execution_count": 422,
     "metadata": {},
     "output_type": "execute_result"
    }
   ],
   "source": [
    "ScienceFiction/total*100"
   ]
  },
  {
   "cell_type": "code",
   "execution_count": 423,
   "id": "6cd66ab5",
   "metadata": {},
   "outputs": [
    {
     "data": {
      "text/plain": [
       "5.319148936170213"
      ]
     },
     "execution_count": 423,
     "metadata": {},
     "output_type": "execute_result"
    }
   ],
   "source": [
    "Fantasy/total*100"
   ]
  },
  {
   "cell_type": "code",
   "execution_count": 424,
   "id": "3ea08334",
   "metadata": {},
   "outputs": [
    {
     "data": {
      "text/plain": [
       "1.0638297872340425"
      ]
     },
     "execution_count": 424,
     "metadata": {},
     "output_type": "execute_result"
    }
   ],
   "source": [
    "Anime/total*100"
   ]
  },
  {
   "cell_type": "code",
   "execution_count": 425,
   "id": "32c051a2",
   "metadata": {},
   "outputs": [],
   "source": [
    "genre = [\"MystoryThriller\",\"Action\",\"Comedy\",\"Romance\",\"Others\"]"
   ]
  },
  {
   "cell_type": "code",
   "execution_count": 426,
   "id": "dde2c736",
   "metadata": {},
   "outputs": [
    {
     "data": {
      "image/png": "[encoded data removed]",
      "text/plain": [
       "<Figure size 432x288 with 1 Axes>"
      ]
     },
     "metadata": {},
     "output_type": "display_data"
    }
   ],
   "source": [
    "fig = plt.figure()\n",
    "ax = fig.add_axes([0,0,1,1])\n",
    "ax.axis('equal')\n",
    "ax.pie([MystoryThriller,Action,Comedy,Romance,Horror+Fantasy+Anime+ScienceFiction+HistoricalDrama], labels = genre,autopct='%1.2f%%')\n",
    "plt.show()"
   ]
  },
  {
   "cell_type": "code",
   "execution_count": 427,
   "id": "8eecbc7f",
   "metadata": {},
   "outputs": [],
   "source": [
    "df = pd.read_csv(\"boxcollection.csv\",encoding='ISO-8859-1')"
   ]
  },
  {
   "cell_type": "code",
   "execution_count": 428,
   "id": "85d725a5",
   "metadata": {},
   "outputs": [],
   "source": [
    "df = df[df[\"Box Office India\"]>=50]\n",
    "df = df.reset_index()\n",
    "df = df.drop(columns=[\"index\"])\n",
    "df['Genre1'] = df['Genre1'].str.strip()\n",
    "df['Genre3'] = df['Genre3'].str.strip()\n",
    "df['movie_director'] = df['movie_director'].str.strip()\n",
    "df['actor1'] = df['actor1'].str.strip()\n",
    "df['actor2'] = df['actor2'].str.strip()\n",
    "df['actor3'] = df['actor3'].str.strip()"
   ]
  },
  {
   "cell_type": "code",
   "execution_count": 429,
   "id": "4bbfe8cb",
   "metadata": {},
   "outputs": [
    {
     "data": {
      "text/plain": [
       "array(['Action', 'Comedy', 'Romance', 'Dance', 'Historical Drama',\n",
       "       'Sci-fi', 'Biographical', nan, 'Musical'], dtype=object)"
      ]
     },
     "execution_count": 429,
     "metadata": {},
     "output_type": "execute_result"
    }
   ],
   "source": [
    "df.Genre1.unique()"
   ]
  },
  {
   "cell_type": "code",
   "execution_count": 430,
   "id": "9727e78e",
   "metadata": {},
   "outputs": [
    {
     "data": {
      "image/png": "[encoded data removed]",
      "text/plain": [
       "<Figure size 432x288 with 1 Axes>"
      ]
     },
     "metadata": {},
     "output_type": "display_data"
    }
   ],
   "source": [
    "MystoryThriller = sum(df[\"Genre1\"]==\"Thriller\")+sum(df[\"Genre3\"]==\"Thriller\")+sum(df[\"Genre1\"]==\"Mystery\")+sum(df[\"Genre3\"]==\"Mystery\")\n",
    "\n",
    "Action= sum(df[\"Genre1\"]==\"Action\")+sum(df[\"Genre3\"]==\"Action\")\n",
    "\n",
    "Comedy=sum(df[\"Genre1\"]==\"Comedy\")+sum(df[\"Genre3\"]==\"Comedy\")\n",
    "\n",
    "Horror=sum(df[\"Genre1\"]==\"Horror\")+sum(df[\"Genre3\"]==\"Horror\")\n",
    "\n",
    "Romance=sum(df[\"Genre1\"]==\"Romance\")+sum(df[\"Genre3\"]==\"Romance\")\n",
    "\n",
    "HistoricalDrama=sum(df[\"Genre1\"]==\"Historical Drama\")+sum(df[\"Genre3\"]==\"Historical Drama\")\n",
    "\n",
    "ScienceFiction=sum(df[\"Genre1\"]==\"Sci-fi\")+sum(df[\"Genre3\"]==\"Sci-fi\")\n",
    "\n",
    "Biographical=sum(df[\"Genre1\"]==\"Biographical\")+sum(df[\"Genre3\"]==\"Biographical\")\n",
    "\n",
    "Others=sum(df[\"Genre1\"]==\"Dance\")+sum(df[\"Genre3\"]==\"Dance\")+sum(df[\"Genre1\"]==\"Musical\")+sum(df[\"Genre3\"]==\"Musical\")\n",
    "\n",
    "total = MystoryThriller+Action+Comedy+Horror+Romance+HistoricalDrama+ScienceFiction+Fantasy+Anime\n",
    "\n",
    "MystoryThriller/total*100\n",
    "\n",
    "Action/total*100\n",
    "\n",
    "Comedy/total*100\n",
    "\n",
    "Horror/total*100\n",
    "\n",
    "Romance/total*100\n",
    "\n",
    "HistoricalDrama/total*100\n",
    "\n",
    "ScienceFiction/total*100\n",
    "\n",
    "Biographical/total*100\n",
    "\n",
    "Others/total*100\n",
    "\n",
    "genre = [\"MystoryThriller\",\"Action\",\"Comedy\",\"Romance\",\"Others\"]\n",
    "\n",
    "fig = plt.figure()\n",
    "ax = fig.add_axes([0,0,1,1])\n",
    "ax.axis('equal')\n",
    "ax.pie([MystoryThriller,Action,Comedy,Romance,HistoricalDrama+Biographical+Others+Horror+ScienceFiction], labels = genre,autopct='%1.2f%%')\n",
    "plt.show()"
   ]
  }
 ],
 "metadata": {
  "kernelspec": {
   "display_name": "Python 3 (ipykernel)",
   "language": "python",
   "name": "python3"
  },
  "language_info": {
   "codemirror_mode": {
    "name": "ipython",
    "version": 3
   },
   "file_extension": ".py",
   "mimetype": "text/x-python",
   "name": "python",
   "nbconvert_exporter": "python",
   "pygments_lexer": "ipython3",
   "version": "3.9.9"
  }
 },
 "nbformat": 4,
 "nbformat_minor": 5
}
